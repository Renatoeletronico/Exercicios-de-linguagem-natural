{
 "cells": [
  {
   "cell_type": "markdown",
   "metadata": {},
   "source": [
    "## Exercicio 1 - Calculo de volume"
   ]
  },
  {
   "cell_type": "code",
   "execution_count": 1,
   "metadata": {},
   "outputs": [
    {
     "name": "stdout",
     "output_type": "stream",
     "text": [
      "O volume da caixa é 8000.0\n"
     ]
    }
   ],
   "source": [
    "# Elaborar um programa que calcule e apresente o valor do volume de uma caixa retangular, utilizando a fórmula VOLUME = ALTURA X LARGURA X PROFUNDIDADE\n",
    "\n",
    "altura = float(input(\"Qual a altura da caixa? \"))\n",
    "largura = float(input(\"Qual a largura da caixa? \"))\n",
    "profundidade = float(input(\"Qual a profundidade da caixa? \"))\n",
    "\n",
    "volume = altura * largura * profundidade\n",
    "\n",
    "print(f\"O volume da caixa é {volume}\")"
   ]
  },
  {
   "cell_type": "markdown",
   "metadata": {},
   "source": [
    " ## Exercicio 2 - Ler um texto e conte as palavras"
   ]
  },
  {
   "cell_type": "code",
   "execution_count": 3,
   "metadata": {},
   "outputs": [
    {
     "name": "stdout",
     "output_type": "stream",
     "text": [
      "O número de palavras no texto é: 3\n"
     ]
    }
   ],
   "source": [
    "# Criar um programa que leia um texto e conte o número de palavras\n",
    "\n",
    "texto = input(\"Digite um texto: \")\n",
    "palavras = texto.split()\n",
    "numero_palavras = len(palavras)\n",
    "print(\"O número de palavras no texto é:\", numero_palavras)"
   ]
  },
  {
   "cell_type": "markdown",
   "metadata": {},
   "source": [
    "## Exercício 4 - Separar frases com o split"
   ]
  },
  {
   "cell_type": "code",
   "execution_count": 6,
   "metadata": {},
   "outputs": [
    {
     "name": "stdout",
     "output_type": "stream",
     "text": [
      "Frase número 1: Amo vcs com toda minha força\n",
      "\n",
      "Frase número 3:  e se tem alguém que também merece meus aplausos este alguém é vc filho amado\n",
      "\n",
      "Frase número 5: Guerreiro nato\n",
      "\n",
      "Frase número 7: te amo filho\n",
      "\n"
     ]
    }
   ],
   "source": [
    "# Separar frases com o split()e iterar sobre elas.\n",
    "\n",
    "texto = input(\"Digite um texto: \")\n",
    "frases = texto.split(\".\")\n",
    "i = 0\n",
    "for frase in frases:\n",
    "  i = i + 1\n",
    "  if (frase != \"\"):\n",
    "    print(f\"Frase número {i}: {frase}\\n\")"
   ]
  },
  {
   "cell_type": "markdown",
   "metadata": {},
   "source": [
    "## Exercicio 5 - Colocar em ordem"
   ]
  },
  {
   "cell_type": "code",
   "execution_count": null,
   "metadata": {},
   "outputs": [],
   "source": [
    "#Ler três valores inteiros e armazenar em variáveis. Apresentar os valores em ordem crescente.\n",
    "valor1= input(\"Digite um número: \")\n",
    "valor2= input(\"Digite um número: \")\n",
    "valor3= input(\"Digite um número\")\n",
    "\n",
    "ordenado = sorted([valor1,valor2,valor3])\n",
    "print(ordenado)"
   ]
  },
  {
   "cell_type": "markdown",
   "metadata": {},
   "source": [
    "## Exercicio 6 - apenas divisíveis por 2 e 3"
   ]
  },
  {
   "cell_type": "code",
   "execution_count": null,
   "metadata": {},
   "outputs": [],
   "source": [
    "# Fazer a leitura de 4 valores numéricos e presentar apenas os divisíveis por 2 e 3\n",
    "valor = []  # Inicializa a lista vazia\n",
    "\n",
    "# Coleta os 4 valores numéricos\n",
    "for i in range(4):\n",
    "    valor.append(int(input(f\"Digite o {i+1}º número: \")))  # Converte para inteiro diretamente\n",
    "\n",
    "print(\"Números divisíveis por 2 e 3:\")\n",
    "for num in valor:\n",
    "    if num % 2 == 0 and num % 3 == 0:\n",
    "        print(num)"
   ]
  },
  {
   "cell_type": "markdown",
   "metadata": {},
   "source": [
    "## Exercicio 7 - apenas divisíveis por 4 e menores que 200"
   ]
  },
  {
   "cell_type": "code",
   "execution_count": 7,
   "metadata": {},
   "outputs": [
    {
     "name": "stdout",
     "output_type": "stream",
     "text": [
      "Numeros divisíveis por 4 e menores que 200:\n",
      "4\n",
      "8\n",
      "12\n",
      "16\n",
      "20\n",
      "24\n",
      "28\n",
      "32\n",
      "36\n",
      "40\n",
      "44\n",
      "48\n",
      "52\n",
      "56\n",
      "60\n",
      "64\n",
      "68\n",
      "72\n",
      "76\n",
      "80\n",
      "84\n",
      "88\n",
      "92\n",
      "96\n",
      "100\n",
      "104\n",
      "108\n",
      "112\n",
      "116\n",
      "120\n",
      "124\n",
      "128\n",
      "132\n",
      "136\n",
      "140\n",
      "144\n",
      "148\n",
      "152\n",
      "156\n",
      "160\n",
      "164\n",
      "168\n",
      "172\n",
      "176\n",
      "180\n",
      "184\n",
      "188\n",
      "192\n",
      "196\n"
     ]
    }
   ],
   "source": [
    "#Construir um programa que apresente todos os valores numéricos divísiveis por 4 e menores que 200\n",
    "print(\"Numeros divisíveis por 4 e menores que 200:\")\n",
    "for i in range(1, 200):\n",
    "    if i % 4 == 0:\n",
    "        print(i)"
   ]
  }
 ],
 "metadata": {
  "kernelspec": {
   "display_name": "venv",
   "language": "python",
   "name": "python3"
  },
  "language_info": {
   "codemirror_mode": {
    "name": "ipython",
    "version": 3
   },
   "file_extension": ".py",
   "mimetype": "text/x-python",
   "name": "python",
   "nbconvert_exporter": "python",
   "pygments_lexer": "ipython3",
   "version": "3.13.2"
  }
 },
 "nbformat": 4,
 "nbformat_minor": 2
}
