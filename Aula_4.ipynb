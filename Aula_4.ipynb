{
 "cells": [
  {
   "cell_type": "code",
   "execution_count": null,
   "id": "55a6084a",
   "metadata": {},
   "outputs": [],
   "source": [
    "#importando a ferramenta que irá criar a representação numérica \n",
    "from sklearn.feature_extraction.text import CountVectorizer"
   ]
  },
  {
   "cell_type": "code",
   "execution_count": 5,
   "id": "dfa46323",
   "metadata": {},
   "outputs": [],
   "source": [
    "#Criando um corpus de documentos que será usado para a criação do vocabulário \n",
    "documentos = [\n",
    "    \"Gato e cachorro\",\n",
    "    \"Gato brinca com cachorro\",\n",
    "    \"gato e rato\",\n",
    "    \"Cachorro, gato e rato\",\n",
    "    \"gato\",\n",
    "    \"Cachorro e rato\"\n",
    "]\n"
   ]
  },
  {
   "cell_type": "code",
   "execution_count": 10,
   "id": "9365482d",
   "metadata": {},
   "outputs": [],
   "source": [
    "#Criando um documento para ser utlizado: transformar os documentos em vetores \n",
    "vectorizer = CountVectorizer()"
   ]
  },
  {
   "cell_type": "code",
   "execution_count": 11,
   "id": "84f25297",
   "metadata": {},
   "outputs": [],
   "source": [
    "#Criando a matriz de contagem \n",
    "x = vectorizer.fit_transform(documentos)\n",
    "#fit >> cria um dicionário de palavras \n",
    "#transform >> conta a frequeência de cada palavra no corpus "
   ]
  },
  {
   "cell_type": "code",
   "execution_count": 12,
   "id": "d5abcbac",
   "metadata": {},
   "outputs": [
    {
     "name": "stdout",
     "output_type": "stream",
     "text": [
      "Vocabulário: {'gato': 3, 'cachorro': 1, 'brinca': 0, 'com': 2, 'rato': 4}\n"
     ]
    }
   ],
   "source": [
    "# imprimindo a matriz e o vocabulário formado \n",
    "print(f\"Vocabulário: {vectorizer.vocabulary_}\")\n",
    "#realiza o mapemaneto do vocabulário para um ídice da matriz"
   ]
  },
  {
   "cell_type": "code",
   "execution_count": 13,
   "id": "804ae82a",
   "metadata": {},
   "outputs": [
    {
     "name": "stdout",
     "output_type": "stream",
     "text": [
      "Matriz Bow:\n",
      "[[0 1 0 1 0]\n",
      " [1 1 1 1 0]\n",
      " [0 0 0 1 1]\n",
      " [0 1 0 1 1]\n",
      " [0 0 0 1 0]\n",
      " [0 1 0 0 1]]\n"
     ]
    }
   ],
   "source": [
    "print(\"Matriz Bow:\")\n",
    "print(x.toarray())\n",
    "#mostra a frequência de cada palavra no array "
   ]
  },
  {
   "cell_type": "code",
   "execution_count": null,
   "id": "36229bef",
   "metadata": {},
   "outputs": [],
   "source": [
    "from sklearn.feature_extraction.text import TfidfVectorizer\n",
    "\n",
    "#Criando um modelo TF-IDF\n",
    "vectorizer_tfidf = TfidfVectorizer()\n",
    "#realiza a instaciação da classe em objeto \n",
    "X_tfidf = vectorizer_tfidf.fit_transform(documentos)\n",
    "#fit >> realizar a transformaçãod o vocabulário \n",
    "#transform >> transforma cada vetor do documento com a contagemde frequência ponderada "
   ]
  },
  {
   "cell_type": "code",
   "execution_count": 15,
   "id": "4f07ee87",
   "metadata": {},
   "outputs": [
    {
     "name": "stdout",
     "output_type": "stream",
     "text": [
      "\n",
      "Vocabulário TF_IDF: {'gato': 3, 'cachorro': 1, 'brinca': 0, 'com': 2, 'rato': 4}\n",
      "matriz TF_IDF\n",
      "[[0.         0.75684411 0.         0.65359543 0.        ]\n",
      " [0.61845922 0.36690659 0.61845922 0.31685319 0.        ]\n",
      " [0.         0.         0.         0.59485466 0.80383327]\n",
      " [0.         0.56726902 0.         0.48988217 0.66198287]\n",
      " [0.         0.         0.         1.         0.        ]\n",
      " [0.         0.65069558 0.         0.         0.7593387 ]]\n"
     ]
    }
   ],
   "source": [
    "#Imprimindo o vocabulário da matriz TF-IDF\n",
    "print(f\"\\nVocabulário TF_IDF: {vectorizer_tfidf.vocabulary_}\")\n",
    "print(\"matriz TF_IDF\")\n",
    "print(X_tfidf.toarray())"
   ]
  }
 ],
 "metadata": {
  "kernelspec": {
   "display_name": "venv",
   "language": "python",
   "name": "python3"
  },
  "language_info": {
   "codemirror_mode": {
    "name": "ipython",
    "version": 3
   },
   "file_extension": ".py",
   "mimetype": "text/x-python",
   "name": "python",
   "nbconvert_exporter": "python",
   "pygments_lexer": "ipython3",
   "version": "3.13.2"
  }
 },
 "nbformat": 4,
 "nbformat_minor": 5
}
