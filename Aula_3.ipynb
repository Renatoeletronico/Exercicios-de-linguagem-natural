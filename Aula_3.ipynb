{
 "cells": [
  {
   "cell_type": "markdown",
   "metadata": {},
   "source": [
    "# Aula 3 Processamento de texto "
   ]
  },
  {
   "cell_type": "markdown",
   "metadata": {},
   "source": [
    "1. O que é processamento de Linguagem natural (PLN)\n",
    "a. estudando a área da computação que desenvolve técnicas para que os computadores compreendam e interpretem a nossa linguagem, gerando respostas que sejam legíveis.\n",
    "b. Destacamos o termo \"natural\", pois a linguagem natural é a linguagem falada ou escrita por seres humanos\n",
    "c. O PLN possui duas camadas:\n",
    "    1. compreensão da linguagem natural (NLU) - conseguir interpretar:\n",
    "        a. interpretar as palavras, analise gramatical e sintática e também identificar lógica na sentença \n",
    "        b. Exemplo: Qual será o tempo amanhã?\n",
    "2. Geração da linguagem natural (NLG) - gerar a comunicação a partir de uma base de dados própria para responder de acordo com uma entrada previamente realizada.\n",
    "\n",
    "b. Paradigmas da PLN  - abordagens de como os problemas de PLN são resolvidos:\n",
    "    i. Simbólico - seguir as regras escritas.\n",
    "        1. Ex. O carro era bonito. !=  do carro foi bonito. \n",
    "        2. desvantagens:  Qualquer alteração no texto, envolve nova base de dados, geralmente vem com novas regras. \n",
    "    ii. Estatístico - Calculos probabilisticos em coleções de textos, ele basicamente calcula qual é a probabilidade de duas palavras estarem próximas. Palavras próximas \n",
    "    1. O carro foi bonito. == o carro era bonito. != O carro é belo.\n",
    "    iii. Neural -  baseado em apreendizado neural, utilizados por grandes volumes de dados se baseiam \n",
    "    iv. Misto -  uma mistura de todos \n",
    "\n",
    "2. Qual é o primeiro passo a ser executado (Prática):\n",
    "    a. Vamos começar com a parte de interpretação da linguagem \n",
    "    b. pergunta da noite:  você conseguiria  comer feijão cru neste exato momento?\n",
    "        i. Essa mesma a nlogia pode ser usada para o computador receber um texto -  pode receber mas não vai fazer bem (nenhuma compreensão)\n",
    "    c. O computador precisa receber o texto tratado (pré-processamento) é uma preparação para que o conteúdo possa entrar no algoritmo de ML para que possa ser processado e respondido.\n",
    "    d. Os textos brutos eles são divididos em pedaços que possuam peso (sentido morfológico e sintático) para serem aproveitados.\n",
    "    e. Esse é o processo de limpeza e transformação das  palavras:\n",
    "        i. pontuação e simbolos serão excluidos \n",
    "        ii. palavras comuns são eliminadas \n",
    "        iii. haverá a padronização de maiusculas e minusculas\n",
    "        iv.  haverá a transformação de sua palavra para a sua raiz \n",
    "    f. Etapas do pré processsamento \n",
    "        i. normalização do texto : etapa que ajusta as letras no texto:\n",
    "            1. transformação de maiusculas e minusculas\n",
    "            a. Boa Noite = boa noite = BOA NOITE    \n",
    "        ii. remoção dos ruídos - elemntos textuais que não possuem valor para o texto\n",
    "            1. Confira a atividade de hoje!!! Link:\n",
    "            www.google.com/rodolfo_aula03\n",
    "        iii. tokenização - Separação do conjunto textual em unidades atômicas - palavras:\n",
    "            1. O menino foi de ônibus para a escola \n",
    "            2. O|Menino|foi|de|ônibus|para|a|escola|\n",
    "        iv. remoção de stopword (palavras comuns) - palavras que não contribuem para o significado da frase \n",
    "            1. O|Menino|foi|de|ônibus|para|a|escola|\n",
    "            2. x|Menino|foi|x|ônibus|x|x|escola|\n",
    "        v. radicalização - tranformar as palavras em suas raizes\n",
    "            1.radicalização (Stemming)\n",
    "                a. correu, corrido, correr, corremos = corr\n",
    "            2.lematização (Lemmatizer)\n",
    "                a. correu, corrido, correr, corremos = correr\n",
    "        \n",
    "\n"
   ]
  }
 ],
 "metadata": {
  "language_info": {
   "name": "python"
  }
 },
 "nbformat": 4,
 "nbformat_minor": 2
}
