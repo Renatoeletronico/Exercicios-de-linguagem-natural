{
 "cells": [
  {
   "cell_type": "code",
   "execution_count": null,
   "id": "db45f57e",
   "metadata": {},
   "outputs": [],
   "source": [
    "# Análise Sintática e Estruturas Linguisticas "
   ]
  },
  {
   "cell_type": "markdown",
   "id": "3b715f73",
   "metadata": {},
   "source": [
    "## Parte 1 - Desenvolvimento conceitual - Corporas "
   ]
  },
  {
   "cell_type": "markdown",
   "id": "746be8a5",
   "metadata": {},
   "source": [
    "### inicio do processamento do corpus "
   ]
  },
  {
   "cell_type": "code",
   "execution_count": 8,
   "id": "3b889444",
   "metadata": {},
   "outputs": [],
   "source": [
    "#criar uma função para fazer a abertura e leitura do arquivo \n",
    "def ler(nome_arquivo):\n",
    "    arquivo = open(nome_arquivo, \"r\",encoding='utf-8')\n",
    "    conteudo_arq = arquivo.read()\n",
    "    arquivo.close()\n",
    "    return conteudo_arq\n"
   ]
  },
  {
   "cell_type": "code",
   "execution_count": 9,
   "id": "14bce342",
   "metadata": {},
   "outputs": [
    {
     "name": "stdout",
     "output_type": "stream",
     "text": [
      "219833\n"
     ]
    }
   ],
   "source": [
    "texto = ler(\"ubirajara.txt\")\n",
    "print(len(texto))"
   ]
  },
  {
   "cell_type": "markdown",
   "id": "bf3d359a",
   "metadata": {},
   "source": [
    "### Buscador de palavras "
   ]
  },
  {
   "cell_type": "code",
   "execution_count": 12,
   "id": "c4eb2d30",
   "metadata": {},
   "outputs": [],
   "source": [
    "def buscador (alvo,texto):\n",
    "    texto = texto.replace('\\n',' ')\n",
    "    texto = texto.replace('\\t',' ')\n",
    "    \n",
    "    ocorrencias = []\n",
    "    encontrado_aqui = texto.find(alvo,0) \n",
    "    #se encontrar a palavar informa a posição \n",
    "    #senão informa -1 \n",
    "    \n",
    "    while encontrado_aqui > -1 :\n",
    "        pos_inicial  = encontrado_aqui - (40 - len(alvo))\n",
    "        trecho = texto[pos_inicial:pos_inicial + 80]\n",
    "        ocorrencias.append(trecho)\n",
    "        \n",
    "        encontrado_aqui = texto.find(alvo, encontrado_aqui + 1)\n",
    "        #inicia a busca a partir da palavra anterior + 1\n",
    "        #se encontrar a palavar informa a posição \n",
    "        #senão informa -1 \n",
    "    return ocorrencias"
   ]
  },
  {
   "cell_type": "code",
   "execution_count": 13,
   "id": "2062293f",
   "metadata": {},
   "outputs": [
    {
     "name": "stdout",
     "output_type": "stream",
     "text": [
      "\n",
      "uira a virjem formoza.  A corça veiu cair aos pés de Jaguarê, atravessada pela f\n",
      "\n",
      "ê, cravou o peito do inimigo.  «Elle caiu, o guerreiro chefe, o grande varão dos\n",
      "\n",
      "o Anhanga.  O revez de ser vencido e cair prizioneiro, elle o suporta como o var\n",
      "\n",
      "Pojucan. Se na auzencia de Ubirajara cair na taba a flecha, nuncia da guerra, co\n",
      "\n",
      "o avançou para a taba; na entrada da caissara que cercava o campo dos tocantins,\n",
      "\n",
      "da, e protejiam o viajante contra os caiporas da floresta, que se apartavam de s\n",
      "\n",
      "e disse:  --O braço de Jurandir fará cair assim a teus pés o guerreiro que ouze \n",
      "\n",
      "ncebo. Salvou as corcovas, galgou as caiçaras, e subiu pelos galhos que estrepav\n",
      "\n",
      "astidade a vestia, como a flôr á sapucaia.  Mas agora em prezença do guerreiro a\n",
      "\n",
      "e arrancou da boca de Canicran. Convocai os guerreiros, e o que fôr mais forte e\n",
      "\n",
      "oderoza nação estava como o bando de caitetús que perdeu o pai, e desgarra-se pe\n",
      "\n",
      "a taça vermelha feita do côco da sapucaia; e aplacou a sêde do combate.  Emquant\n",
      "\n",
      "ue as palavras entram na fraze a uma caixa na qual se conteria outra que a seu t\n",
      "\n",
      "o. Entretanto Orbigny, _L'Homme Américain_, sustenta a identidade das duas raças\n",
      "\n",
      "e percorriam as solidões montados em caitetús, ou transformados em certos animai\n",
      "\n",
      "s animais. Entre estes mencionarei o caipora e a mãi d'agua, cuja abuzão transmi\n",
      "\n",
      " o _patiguá_ ou _patuâ_, que era uma caixa de palha ou couro; e o _mocô_, pequen\n",
      "\n",
      "ta, que em muitas outras inexatidões caiu.  Se ha traço nobre do carater selvaje\n"
     ]
    }
   ],
   "source": [
    "resultado = buscador(\"cai\", texto)\n",
    "for trecho in resultado:\n",
    "    print('\\n'+trecho)"
   ]
  },
  {
   "cell_type": "code",
   "execution_count": 14,
   "id": "e3d94bb2",
   "metadata": {},
   "outputs": [
    {
     "name": "stdout",
     "output_type": "stream",
     "text": [
      "O cacho\n"
     ]
    }
   ],
   "source": [
    "teste = \"O cachorro correu atrás do rabo\"\n",
    "print(teste[0:7])"
   ]
  },
  {
   "cell_type": "markdown",
   "id": "feba837a",
   "metadata": {},
   "source": [
    "## Segunda etapa a limpeza do corpus "
   ]
  },
  {
   "cell_type": "code",
   "execution_count": 21,
   "id": "129ac474",
   "metadata": {},
   "outputs": [],
   "source": [
    "palavras = texto.split()"
   ]
  },
  {
   "cell_type": "code",
   "execution_count": 4,
   "id": "52299e06",
   "metadata": {},
   "outputs": [
    {
     "name": "stdout",
     "output_type": "stream",
     "text": [
      "['Corre-se', 'atrás', 'do', 'carro,', 'corre', 'se', 'o', 'carro', 'for', 'embora', '.']\n"
     ]
    }
   ],
   "source": [
    "teste = \"Corre-se atrás do carro, corre se o carro for embora .\"\n",
    "word = teste.split()\n",
    "print(word)\n"
   ]
  },
  {
   "cell_type": "code",
   "execution_count": 5,
   "id": "2849784c",
   "metadata": {},
   "outputs": [],
   "source": [
    "def limpar(lista):\n",
    "    lixo = '.,:;?!\"´`^~()[]{}/\\|@#$%\"&*'\n",
    "    quase_limpo = [x.strip(lixo).lower() for x in lista]\n",
    "    return[x for x in quase_limpo if x.isalpha() or '-' in x ]"
   ]
  },
  {
   "cell_type": "code",
   "execution_count": 6,
   "id": "1ed1cf9b",
   "metadata": {},
   "outputs": [
    {
     "name": "stdout",
     "output_type": "stream",
     "text": [
      "['corre-se', 'atrás', 'do', 'carro', 'corre', 'se', 'o', 'carro', 'for', 'embora']\n"
     ]
    }
   ],
   "source": [
    "print(limpar(word))"
   ]
  },
  {
   "cell_type": "code",
   "execution_count": 7,
   "id": "c5d38f29",
   "metadata": {},
   "outputs": [
    {
     "ename": "NameError",
     "evalue": "name 'palavras' is not defined",
     "output_type": "error",
     "traceback": [
      "\u001b[31m---------------------------------------------------------------------------\u001b[39m",
      "\u001b[31mNameError\u001b[39m                                 Traceback (most recent call last)",
      "\u001b[36mCell\u001b[39m\u001b[36m \u001b[39m\u001b[32mIn[7]\u001b[39m\u001b[32m, line 1\u001b[39m\n\u001b[32m----> \u001b[39m\u001b[32m1\u001b[39m \u001b[38;5;28mprint\u001b[39m(\u001b[38;5;28mlen\u001b[39m(\u001b[43mpalavras\u001b[49m))\n\u001b[32m      2\u001b[39m palavras = limpar(palavras)\n\u001b[32m      3\u001b[39m \u001b[38;5;28mprint\u001b[39m(\u001b[38;5;28mlen\u001b[39m(palavras))\n",
      "\u001b[31mNameError\u001b[39m: name 'palavras' is not defined"
     ]
    }
   ],
   "source": [
    "print(len(palavras))\n",
    "palavras = limpar(palavras)\n",
    "print(len(palavras))"
   ]
  },
  {
   "cell_type": "markdown",
   "id": "e29b41f3",
   "metadata": {},
   "source": [
    "### Descrevendo os métodos usados na limpeza \n",
    "\n",
    "split() >> transformar o texto em uma lista de palavras \n",
    "strip() >> elimina sinais ou caracteres no começo ou no fim de uma palavra \n",
    "isalpha() >> relizar um filto eliminando numeros ou simbolos de uma lista de referência "
   ]
  },
  {
   "cell_type": "markdown",
   "id": "572372db",
   "metadata": {},
   "source": [
    "## Quantidade de palavras "
   ]
  },
  {
   "cell_type": "markdown",
   "id": "008d95eb",
   "metadata": {},
   "source": [
    "# Conhecer a quantidade e palavras e vocabulário "
   ]
  },
  {
   "cell_type": "markdown",
   "id": "94aa5b61",
   "metadata": {},
   "source": [
    "# Criar o dicionário desse texto "
   ]
  },
  {
   "cell_type": "markdown",
   "id": "a09088b6",
   "metadata": {},
   "source": [
    "O que é um dicionario \n",
    "lista = [elemento1, elemento2 ...] - mutável\n",
    "tupla = (elemento1, elemento2, ...) - imutável\n",
    "dicionario = {chave1: valor1, chave2: valor2, ...}\n"
   ]
  },
  {
   "cell_type": "markdown",
   "id": "3feb480f",
   "metadata": {},
   "source": [
    "## Analise Sintatica parte 2 "
   ]
  },
  {
   "cell_type": "markdown",
   "id": "ef16e14b",
   "metadata": {},
   "source": [
    "Por que vamos ter uma aula só de analise sintática?\n",
    "    É como que o processo que a máquina compreende como é a estrutura gramatical de frases; a apalavra isoladamente (calsse gramatical), estrutura da oração e a relação de dependência entre as palavras. \n",
    "    Exemplo: \"o cachorro correu no parque\"\n",
    "    O >> artigo >>> define o sujeito\n",
    "    Cachorro >> substantivo >>> O sujeito que executa a ação\n",
    "    Correu >> verbo >>> palavra raiz \n",
    "    No >> preposição\n",
    "    Parque >> complemenot que indica o local \n",
    "\n",
    "Análise morfológica - classes \n",
    "Análise sintática - oração \n",
    "Análise semântica - significado do conjunto de palavras\n",
    "\n"
   ]
  },
  {
   "cell_type": "code",
   "execution_count": 8,
   "id": "0cdf38de",
   "metadata": {},
   "outputs": [
    {
     "name": "stdout",
     "output_type": "stream",
     "text": [
      "Visualização salva em dependencias.html\n"
     ]
    }
   ],
   "source": [
    "import spacy\n",
    "from spacy import displacy\n",
    "\n",
    "nlp = spacy.load('pt_core_news_sm')\n",
    "\n",
    "frase = \"O gato dorme na cadeira.\"\n",
    "\n",
    "doc = nlp(frase)\n",
    "html = displacy.render(doc, style='dep', jupyter=False)\n",
    "# Salvar o HTML em um arquivo\n",
    "with open(\"dependencias.html\", \"w\", encoding=\"utf-8\") as f:\n",
    "    f.write(html)\n",
    "\n",
    "print(\"Visualização salva em dependencias.html\")"
   ]
  },
  {
   "cell_type": "code",
   "execution_count": null,
   "id": "cade0f74",
   "metadata": {},
   "outputs": [],
   "source": [
    "import nltk\n",
    "from nltk import Tree \n",
    "\n",
    "sintaxe = Tree"
   ]
  }
 ],
 "metadata": {
  "kernelspec": {
   "display_name": ".venv",
   "language": "python",
   "name": "python3"
  },
  "language_info": {
   "codemirror_mode": {
    "name": "ipython",
    "version": 3
   },
   "file_extension": ".py",
   "mimetype": "text/x-python",
   "name": "python",
   "nbconvert_exporter": "python",
   "pygments_lexer": "ipython3",
   "version": "3.11.0"
  }
 },
 "nbformat": 4,
 "nbformat_minor": 5
}
