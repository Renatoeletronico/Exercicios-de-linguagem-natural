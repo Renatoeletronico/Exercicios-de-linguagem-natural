{
  "nbformat": 4,
  "nbformat_minor": 0,
  "metadata": {
    "colab": {
      "provenance": [],
      "authorship_tag": "ABX9TyMMuK4SU3OE3QPuSg755BdH",
      "include_colab_link": true
    },
    "kernelspec": {
      "name": "python3",
      "display_name": "Python 3"
    },
    "language_info": {
      "name": "python"
    }
  },
  "cells": [
    {
      "cell_type": "markdown",
      "metadata": {
        "id": "view-in-github",
        "colab_type": "text"
      },
      "source": [
        "<a href=\"https://colab.research.google.com/github/Renatoeletronico/Exercicios-de-linguagem-natural/blob/main/An%C3%A1lise_de_sentimentos_e_classifica%C3%A7%C3%A3o_de_textos_em_PLN.ipynb\" target=\"_parent\"><img src=\"https://colab.research.google.com/assets/colab-badge.svg\" alt=\"Open In Colab\"/></a>"
      ]
    },
    {
      "cell_type": "markdown",
      "source": [
        "# Exemplos de roteiro"
      ],
      "metadata": {
        "id": "UiVFfa_OMF0A"
      }
    },
    {
      "cell_type": "code",
      "source": [
        "# importando as bibliotecas\n",
        "import nltk\n",
        "from nltk.sentiment.vader import SentimentIntensityAnalyzer\n",
        "\n",
        "#certifique de baixar os recursos necessários da nltk\n",
        "nltk.download('vader_lexicon')\n",
        "nltk.download('punkt')\n"
      ],
      "metadata": {
        "colab": {
          "base_uri": "https://localhost:8080/"
        },
        "id": "favZF5s4MVn1",
        "outputId": "eefa67b5-6082-4172-8823-107021fa0bac"
      },
      "execution_count": 1,
      "outputs": [
        {
          "output_type": "stream",
          "name": "stderr",
          "text": [
            "[nltk_data] Downloading package vader_lexicon to /root/nltk_data...\n",
            "[nltk_data] Downloading package punkt to /root/nltk_data...\n",
            "[nltk_data]   Unzipping tokenizers/punkt.zip.\n"
          ]
        },
        {
          "output_type": "execute_result",
          "data": {
            "text/plain": [
              "True"
            ]
          },
          "metadata": {},
          "execution_count": 1
        }
      ]
    },
    {
      "cell_type": "code",
      "source": [
        "# inicializando o analizador de sentimentos\n",
        "sid = SentimentIntensityAnalyzer()\n",
        "\n",
        "# Definindo os textos para treinar o modelo\n",
        "textos = [\n",
        "    \"Este filme é incrível! Eu adorei cada minuto.\",\n",
        "    \"Odiei este filme. Foi uma perda de tempo.\",\n",
        "    \"O filme foi ok, nada de especial.\",\n",
        "    \"Estou muito feliz com o produto, funciona perfeitamente!\",\n",
        "    \"Que serviço horrível! Nunca mais compro nessa loja.\"\n",
        "]"
      ],
      "metadata": {
        "id": "B3s-XEytM0J7"
      },
      "execution_count": 2,
      "outputs": []
    },
    {
      "cell_type": "code",
      "source": [
        "# Analisando os sentimentos dos textos\n",
        "\n",
        "for texto in textos:\n",
        "    print(f\"Texto: {texto}\")\n",
        "    ss = sid.polarity_scores(texto)\n",
        "    print(f\"Pontuação: {ss}\")\n",
        "    if ss['compound'] >= 0.05:\n",
        "        print(\"Sentimento: Positivo\")\n",
        "    elif ss['compound'] <= -0.05:\n",
        "        print(\"Sentimento: Negativo\")\n",
        "    else:\n",
        "        print(\"Sentimento: Neutro\")\n",
        "    print(\"\\n\")"
      ],
      "metadata": {
        "colab": {
          "base_uri": "https://localhost:8080/"
        },
        "id": "wL9kTiCiNsPE",
        "outputId": "66f8593d-d67d-493b-d2d9-0558626dd213"
      },
      "execution_count": 3,
      "outputs": [
        {
          "output_type": "stream",
          "name": "stdout",
          "text": [
            "Texto: Este filme é incrível! Eu adorei cada minuto.\n",
            "Pontuação: {'neg': 0.0, 'neu': 1.0, 'pos': 0.0, 'compound': 0.0}\n",
            "Sentimento: Neutro\n",
            "\n",
            "\n",
            "Texto: Odiei este filme. Foi uma perda de tempo.\n",
            "Pontuação: {'neg': 0.0, 'neu': 1.0, 'pos': 0.0, 'compound': 0.0}\n",
            "Sentimento: Neutro\n",
            "\n",
            "\n",
            "Texto: O filme foi ok, nada de especial.\n",
            "Pontuação: {'neg': 0.0, 'neu': 0.694, 'pos': 0.306, 'compound': 0.296}\n",
            "Sentimento: Positivo\n",
            "\n",
            "\n",
            "Texto: Estou muito feliz com o produto, funciona perfeitamente!\n",
            "Pontuação: {'neg': 0.0, 'neu': 1.0, 'pos': 0.0, 'compound': 0.0}\n",
            "Sentimento: Neutro\n",
            "\n",
            "\n",
            "Texto: Que serviço horrível! Nunca mais compro nessa loja.\n",
            "Pontuação: {'neg': 0.0, 'neu': 1.0, 'pos': 0.0, 'compound': 0.0}\n",
            "Sentimento: Neutro\n",
            "\n",
            "\n"
          ]
        }
      ]
    },
    {
      "cell_type": "code",
      "source": [
        "import numpy as np\n",
        "\n",
        "def contar_palavras(avaliacoes, sentimento):\n",
        "    \"\"\"conta a frequência de cada palavra em avaliações de um dado sentimento.\"\"\"\n",
        "    contagem = {}\n",
        "    for avaliacao, sent in avaliacoes:\n",
        "        if sent == sentimento:\n",
        "            for palavra in avaliacao.lower().split():\n",
        "                if palavra in contagem:\n",
        "                    contagem[palavra] += 1\n",
        "                else:\n",
        "                    contagem[palavra] = 1\n",
        "    return contagem\n",
        "\n",
        "def calcular_probabilidade_sentimento(avaliacoes, sentimento):\n",
        "    \"\"\"calcula a probabilidade de uma avaliação ser de um dado sentimento.\"\"\"\n",
        "    total_avaliacoes = len(avaliacoes)\n",
        "    contagem_sentimento = sum(1 for _, sent in avaliacoes if sent == sentimento)\n",
        "    return contagem_sentimento / total_avaliacoes\n",
        "\n",
        "def calcular_probabilidade_palavra_dado_sentimento(palavra, contagem_palavras, total_palavras_sentimento, total_palavras_vocabulario, alpha=1):\n",
        "    \"\"\"calcula a probabilidade de uma palavra aparecer dado um sentimento (com suavização Laplace).\"\"\"\n",
        "    contagem_palavra = contagem_palavras.get(palavra, 0)\n",
        "    return (contagem_palavra + alpha) / (total_palavras_sentimento + alpha * total_palavras_vocabulario)\n"
      ],
      "metadata": {
        "id": "vxooKLY1OGsh"
      },
      "execution_count": 4,
      "outputs": []
    },
    {
      "cell_type": "code",
      "source": [
        "def classificar_avaliacao(avaliacao, avaliacoes):\n",
        "    \"\"\"Classifica o sentimento de uma nova avaliação usando Naive Bayes.\"\"\"\n",
        "    sentimentos = [\"Positivo\", \"Negativo\"]\n",
        "    probabilidades_sentimento = {}\n",
        "\n",
        "    # Calcular probabilidades a priori dos sentimentos\n",
        "    probabilidades_sentimento[\"Positivo\"] = calcular_probabilidade_sentimento(avaliacoes, \"Positivo\")\n",
        "    probabilidades_sentimento[\"Negativo\"] = calcular_probabilidade_sentimento(avaliacoes, \"Negativo\")\n",
        "\n",
        "    # Contar palavras em cada sentimento\n",
        "    contagem_palavras_positivo = contar_palavras(avaliacoes, \"Positivo\")\n",
        "    contagem_palavras_negativo = contar_palavras(avaliacoes, \"Negativo\")\n",
        "\n",
        "    # Calcular total de palavras em cada sentimento\n",
        "    total_palavras_positivo = sum(contagem_palavras_positivo.values())\n",
        "    total_palavras_negativo = sum(contagem_palavras_negativo.values())\n",
        "\n",
        "    # Calcular tamanho do vocabulário\n",
        "    vocabulario = set()\n",
        "    for avaliacao_, _ in avaliacoes:\n",
        "        for palavra in avaliacao_.lower().split():\n",
        "            vocabulario.add(palavra)\n",
        "    total_palavras_vocabulario = len(vocabulario)\n",
        "\n",
        "    # Calcular probabilidade para cada sentimento\n",
        "    for sentimento in sentimentos:\n",
        "        probabilidade_total = probabilidades_sentimento[sentimento]\n",
        "        contagem_palavras_sentimento = contagem_palavras_positivo if sentimento == \"Positivo\" else contagem_palavras_negativo\n",
        "        total_palavras_sentimento = total_palavras_positivo if sentimento == \"Positivo\" else total_palavras_negativo\n",
        "\n",
        "        for palavra in avaliacao.lower().split():\n",
        "            probabilidade_palavra = calcular_probabilidade_palavra_dado_sentimento(\n",
        "                palavra, contagem_palavras_sentimento, total_palavras_sentimento, total_palavras_vocabulario\n",
        "            )\n",
        "            probabilidade_total *= probabilidade_palavra\n",
        "\n",
        "        probabilidades_sentimento[sentimento] = probabilidade_total\n",
        "\n",
        "    # Classificar com base na maior probabilidade\n",
        "    melhor_sentimento = max(probabilidades_sentimento, key=probabilidades_sentimento.get)\n",
        "    return melhor_sentimento\n"
      ],
      "metadata": {
        "id": "SF9xBJ-1Ovm-"
      },
      "execution_count": 5,
      "outputs": []
    },
    {
      "cell_type": "code",
      "source": [
        "avaliacoes = [\n",
        "    (\"Filme incrível! Adorei a atuação.\", \"Positivo\"),\n",
        "    (\"Roteiro fraco, não recomendo.\", \"Negativo\"),\n",
        "    (\"Atuação boa, mas filme longo.\", \"Positivo\"),\n",
        "    (\"Péssimo! Perdi meu tempo.\", \"Negativo\"),\n",
        "]\n"
      ],
      "metadata": {
        "id": "uN29VwLdO0Cx"
      },
      "execution_count": 6,
      "outputs": []
    },
    {
      "cell_type": "code",
      "source": [
        "# Nova avaliação a ser classificada\n",
        "nova_avaliacao = input(\"O que você achou do filme 101 Dálmatas? \")\n",
        "\n",
        "# Classificar a nova avaliação\n",
        "sentimento = classificar_avaliacao(nova_avaliacao, avaliacoes)\n",
        "print(f\"A avaliação '{nova_avaliacao}' foi classificada como: {sentimento}\")\n"
      ],
      "metadata": {
        "colab": {
          "base_uri": "https://localhost:8080/"
        },
        "id": "CIsYSM1dPKoa",
        "outputId": "b9a55042-9ff6-462d-f6c8-3498c1f71c24"
      },
      "execution_count": 10,
      "outputs": [
        {
          "output_type": "stream",
          "name": "stdout",
          "text": [
            "O que você achou do filme 101 Dálmatas? bom\n",
            "A avaliação 'bom' foi classificada como: Positivo\n"
          ]
        }
      ]
    },
    {
      "cell_type": "code",
      "source": [
        "avaliacoes = [\n",
        "    (\"Filme incrível! Adorei a atuação, roteiro e direção.\", \"Positivo\"),\n",
        "    (\"Roteiro fraco, atuação ruim, não recomendo. Perda de tempo.\", \"Negativo\"),\n",
        "    (\"Atuação boa, mas filme um pouco longo e arrastado.\", \"Positivo\"),\n",
        "    (\"Péssimo! Perdi meu tempo, dinheiro e paciência. Horrível.\", \"Negativo\"),\n",
        "    (\"Amei! Elenco maravilhoso, fotografia impecável. Recomendo muito!\", \"Positivo\"),\n",
        "    (\"Chato, previsível e sem graça. Saí no meio do filme.\", \"Negativo\"),\n",
        "    (\"Uma obra-prima! Roteiro inteligente, atuações memoráveis.\", \"Positivo\"),\n",
        "    (\"Cansativo, atuações forçadas, final decepcionante.\", \"Negativo\"),\n",
        "    (\"Divertido e emocionante! Ótimo para assistir com a família.\", \"Positivo\"),\n",
        "    (\"Clichê, sem originalidade, diálogos fracos. Não vale a pena.\", \"Negativo\"),\n",
        "    (\"Surpreendente e envolvente! Me prendeu do início ao fim.\", \"Positivo\"),\n",
        "    (\"Confuso, mal dirigido, edição amadora. Um desastre.\", \"Negativo\"),\n",
        "    (\"Atuação excelente, história cativante, trilha sonora perfeita.\", \"Positivo\"),\n",
        "    (\"Atuações medianas, história arrastada, trilha sonora irritante.\", \"Negativo\"),\n",
        "    (\"Roteiro bem construído, diálogos afiados, direção impecável.\", \"Positivo\"),\n",
        "    (\"Roteiro fraco, diálogos bobos, direção perdida.\", \"Negativo\"),\n",
        "    (\"Uma experiência cinematográfica única! Recomendo a todos os amantes do cinema.\", \"Positivo\"),\n",
        "    (\"Um filme esquecível, sem emoção e sem impacto.\", \"Negativo\"),\n",
        "    (\"Comovente e inspirador! Me fez refletir sobre a vida.\", \"Positivo\"),\n",
        "    (\"Decepcionante e frustrante! Não recomendo nem para passar o tempo.\", \"Negativo\"),\n",
        "    (\"Ótimo, gostei muito\",'Positivo')\n",
        "]\n"
      ],
      "metadata": {
        "id": "fApO1rXhPc3l"
      },
      "execution_count": 9,
      "outputs": []
    },
    {
      "cell_type": "markdown",
      "source": [
        "# Desafios do roteiro"
      ],
      "metadata": {
        "id": "8ytlmPPaMMRo"
      }
    }
  ]
}