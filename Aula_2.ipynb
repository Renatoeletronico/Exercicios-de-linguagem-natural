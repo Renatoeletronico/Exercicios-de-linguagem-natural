{
 "cells": [
  {
   "cell_type": "markdown",
   "metadata": {},
   "source": [
    "## Exemplo 01 - sintaxe básica "
   ]
  },
  {
   "cell_type": "code",
   "execution_count": 4,
   "metadata": {},
   "outputs": [
    {
     "name": "stdout",
     "output_type": "stream",
     "text": [
      "eu posso ler essa parte\n",
      "essa parte eu posso ler\n"
     ]
    },
    {
     "data": {
      "text/plain": [
       "' e  a mais complexa é usar 3 aspas (simples ou dupla)\\npara comentar várias Linhas \\nLinhas \\nLinhas \\nLinhas '"
      ]
     },
     "execution_count": 4,
     "metadata": {},
     "output_type": "execute_result"
    }
   ],
   "source": [
    "#comentário pode ser feito de duas maneiras.\n",
    "print(\"eu posso ler essa parte\")\n",
    "# a maneira mais fácil é colocar # na linha \n",
    "print('essa parte eu posso ler')\n",
    "\n",
    "\"\"\" e  a mais complexa é usar 3 aspas (simples ou dupla)\n",
    "para comentar várias Linhas \n",
    "Linhas \n",
    "Linhas \n",
    "Linhas \"\"\""
   ]
  },
  {
   "cell_type": "markdown",
   "metadata": {},
   "source": [
    "## Exemplo 2 - Atribuição de variáveis "
   ]
  },
  {
   "cell_type": "code",
   "execution_count": 2,
   "metadata": {},
   "outputs": [
    {
     "name": "stdout",
     "output_type": "stream",
     "text": [
      "Existem 100 disponíveis\n",
      "Existem apenas 30 motoristas\n",
      "Nós podemos transportar 90 pessoas hoje \n"
     ]
    }
   ],
   "source": [
    "# tudo é tratado como objeto (armazenar duas coisas -  o que é e o valor)\n",
    "carros = 100\n",
    "# o objeto = numero inteiro, valor = 100 - rótulo --> nome da variável [cars]\n",
    "espacoNoCarro = 4.0 # real ou ponto flutuante \n",
    "motoristas  = 30 # inteiro\n",
    "passageiros  = 90\n",
    "carrosSemMotoristas = carros - motoristas\n",
    "carrosComMotoristas = motoristas\n",
    "CapacidadeDePassageiros = carrosComMotoristas + espacoNoCarro\n",
    "mediaDePassageirosNoCarro = passageiros / carrosComMotoristas\n",
    "print(\"Existem\",carros,\"disponíveis\")\n",
    "print(f\"Existem apenas {motoristas} motoristas\")\n",
    "print('Nós podemos transportar {} pessoas hoje '.format(passageiros))\n",
    "# as operações moldam o tipo de dado que vai ser apresentado\n",
    "# int/int = real "
   ]
  },
  {
   "cell_type": "markdown",
   "metadata": {},
   "source": [
    "## Exemplo 3 - Entradas e saídas "
   ]
  },
  {
   "cell_type": "code",
   "execution_count": null,
   "metadata": {},
   "outputs": [
    {
     "name": "stdout",
     "output_type": "stream",
     "text": [
      "Quantos anos você tem?\n",
      "O renato tem 20 anos.\n",
      "Você tem 190 cm de altura.\n",
      "O tipo de dados de idade é  <class 'str'>\n",
      "O tipo de dados de altura é  <class 'str'>\n",
      "20190\n",
      "O tipo de dados de idade é  <class 'int'>\n",
      "O tipo de dados de altura é  <class 'int'>\n",
      "210\n",
      "\n",
      " O tipo de dados do peso é  <class 'int'>\n"
     ]
    }
   ],
   "source": [
    "\n",
    "print(\"Quantos anos você tem?\")\n",
    "idade = input()\n",
    "print(f'O renato tem {idade} anos.')\n",
    "\n",
    "altura = input(\"Qual sua altura? \")\n",
    "print(f\"Você tem {altura} cm de altura.\")\n",
    "print(\"O tipo de dados de idade é \",type(idade))\n",
    "print(\"O tipo de dados de altura é \",type(altura))\n",
    "print(idade+altura )\n",
    "\n",
    "valorIdade = int(idade)\n",
    "print(\"O tipo de dados de idade é \",type(valorIdade))\n",
    "valorAltura = int(altura)\n",
    "print(\"O tipo de dados de altura é \",type(valorAltura))\n",
    "print(valorIdade + valorAltura)\n",
    "\n",
    "peso = int(input(\"Qual é o seu peso ? \"))\n",
    "print(\"\\n O tipo de dados do peso é \",type(peso))"
   ]
  },
  {
   "cell_type": "markdown",
   "metadata": {},
   "source": [
    "## Exemplo 04 - Operadores "
   ]
  },
  {
   "cell_type": "code",
   "execution_count": 16,
   "metadata": {},
   "outputs": [
    {
     "name": "stdout",
     "output_type": "stream",
     "text": [
      "contando aves do meu galinheiro\n",
      "Franguinhos 30.0\n",
      "Galos 97.0\n",
      "Agora vou contar os ovos \n",
      "10.75\n",
      "Este resultado é verdadeiro 3 + 2 < 5 - 7?\n",
      "False\n",
      "Quanto é 3 + 2? 5\n",
      "Qaunto é 5 - 7? -2\n",
      "O que é maior? True\n"
     ]
    }
   ],
   "source": [
    "print(\"contando aves do meu galinheiro\")\n",
    "print(\"Franguinhos\", 25 +30 / 6 )\n",
    "print (\"Galos\", 100.0 - 25 *3 % 4)\n",
    "print(\"Agora vou contar os ovos \")\n",
    "print(3 + 2 + 1 - 5 % 2 - 1 / 4 + 6)\n",
    "print(\"Este resultado é verdadeiro 3 + 2 < 5 - 7?\")\n",
    "print(3 + 2 < 5 - 7)  # False\n",
    "print(\"Quanto é 3 + 2?\", 3 + 2)\n",
    "print(\"Qaunto é 5 - 7?\", 5 - 7)\n",
    "print(\"O que é maior?\", 5 > -2 )"
   ]
  },
  {
   "cell_type": "markdown",
   "metadata": {},
   "source": [
    "## Exemplo 5 - Estruturas Condicionais "
   ]
  },
  {
   "cell_type": "code",
   "execution_count": 17,
   "metadata": {},
   "outputs": [
    {
     "name": "stdout",
     "output_type": "stream",
     "text": [
      "Linha da condição 2 verdadeira 1\n",
      "Linha da condição 2 verdadeira 2\n",
      "\n",
      "linha da condição 1 \n"
     ]
    }
   ],
   "source": [
    "pessoas  = 30 \n",
    "carros = 4\n",
    "caminhoes = 15 \n",
    "motos  = 100\n",
    "\n",
    "# desvio condicional simples \n",
    "if ( carros > pessoas ) : \n",
    "    print(\"Nós podemos pegar um carro \")\n",
    "\n",
    "# desvio condicional composto \n",
    "if ( carros < pessoas ) :\n",
    "    print(\"Linha da condição 2 verdadeira 1\")\n",
    "    print(\"Linha da condição 2 verdadeira 2\")\n",
    "else :\n",
    "    print(\"Linha da condição 2 falsa\")\n",
    "    \n",
    "if ( carros < pessoas ) :\n",
    "    print(\"\\nlinha da condição 1 \")\n",
    "    \n",
    "elif (carros < caminhoes):\n",
    "    print(\"Linha da condição 2\")\n",
    "    \n",
    "elif (caminhoes < motos):\n",
    "    print(\"Linha da condição 3\")\n",
    "    \n",
    "else :\n",
    "    print(\"Linha da condição 4\")\n"
   ]
  },
  {
   "cell_type": "markdown",
   "metadata": {},
   "source": [
    "## Exemplo 6 - Laços de repetição "
   ]
  },
  {
   "cell_type": "code",
   "execution_count": 28,
   "metadata": {},
   "outputs": [
    {
     "name": "stdout",
     "output_type": "stream",
     "text": [
      "estou indo de 0 até 0\n",
      "lista criada: [0]\n",
      "estou indo de 0 até 1\n",
      "lista criada: [0, 1]\n",
      "estou indo de 0 até 2\n",
      "lista criada: [0, 1, 2]\n",
      "estou indo de 0 até 3\n",
      "lista criada: [0, 1, 2, 3]\n",
      "estou indo de 0 até 4\n",
      "lista criada: [0, 1, 2, 3, 4]\n",
      "estou indo de 0 até 5\n",
      "lista criada: [0, 1, 2, 3, 4, 5]\n",
      " \n",
      "\n",
      " vamos apresentar o FOR \n",
      "\n",
      "\n",
      "estou indo de 0 até 0\n",
      "lista criada: [0, 1, 2, 3, 4, 5, 0]\n",
      "estou indo de 0 até 1\n",
      "lista criada: [0, 1, 2, 3, 4, 5, 0, 1]\n",
      "estou indo de 0 até 2\n",
      "lista criada: [0, 1, 2, 3, 4, 5, 0, 1, 2]\n",
      "estou indo de 0 até 3\n",
      "lista criada: [0, 1, 2, 3, 4, 5, 0, 1, 2, 3]\n",
      "estou indo de 0 até 4\n",
      "lista criada: [0, 1, 2, 3, 4, 5, 0, 1, 2, 3, 4]\n",
      "estou indo de 0 até 5\n",
      "lista criada: [0, 1, 2, 3, 4, 5, 0, 1, 2, 3, 4, 5]\n",
      " \n",
      "\n",
      " vamos apresentar o FOR  com strings \n",
      "\n",
      "\n",
      "O contador está com a letra A.\n",
      "O contador está com a letra u.\n",
      "O contador está com a letra l.\n",
      "O contador está com a letra a.\n",
      "O contador está com a letra  .\n",
      "O contador está com a letra d.\n",
      "O contador está com a letra e.\n",
      "O contador está com a letra  .\n",
      "O contador está com a letra s.\n",
      "O contador está com a letra e.\n",
      "O contador está com a letra x.\n",
      "O contador está com a letra t.\n",
      "O contador está com a letra a.\n",
      "O contador está com a letra  .\n",
      "O contador está com a letra f.\n",
      "O contador está com a letra e.\n",
      "O contador está com a letra i.\n",
      "O contador está com a letra r.\n",
      "O contador está com a letra a.\n"
     ]
    }
   ],
   "source": [
    "i = 0\n",
    "number  = []\n",
    "# variável simples  - armazena apenas um valor\n",
    "# variável composta - armazena uma vários valores \n",
    "    #listas - mutáveis : [a,b,c45,a,b, [ad]]\n",
    "    #tuplas - imutáveis : (a,b,c,45,asd, asd,(asdcfsd))\n",
    "    #conjuntos  - mutável mas sem repetição (valor1, valor2, valor3 ....)\n",
    "\n",
    "numero = [] # inicializa variável composta tipo lista \n",
    "\n",
    "while (i < 6):\n",
    "    print(f\"estou indo de 0 até {i}\")\n",
    "    numero.append(i) # adiciona valor a lista\n",
    "    i = i + 1 # incrementa valor da variável i\n",
    "    print(f\"lista criada: {numero}\") # imprime lista criada\n",
    "    # aqui estou dentro da repetição\n",
    "\n",
    "print(f\" \\n\\n vamos apresentar o FOR \\n\\n\")\n",
    "\n",
    "for (i) in range (0, 6):\n",
    "    print(f\"estou indo de 0 até {i}\")\n",
    "    numero.append(i) # adiciona valor a lista\n",
    "    i = i + 1 # incrementa valor da variável i\n",
    "    print(f\"lista criada: {numero}\") # imprime lista criada\n",
    "    # aqui estou dentro da repetição\n",
    "\n",
    "print(f\" \\n\\n vamos apresentar o FOR  com strings \\n\\n\")\n",
    "\n",
    "texto = \"Aula de sexta feira\"\n",
    "\n",
    "for i in texto:\n",
    "    print(f\"O contador está com a letra {i}.\")\n"
   ]
  }
 ],
 "metadata": {
  "kernelspec": {
   "display_name": "venv",
   "language": "python",
   "name": "python3"
  },
  "language_info": {
   "codemirror_mode": {
    "name": "ipython",
    "version": 3
   },
   "file_extension": ".py",
   "mimetype": "text/x-python",
   "name": "python",
   "nbconvert_exporter": "python",
   "pygments_lexer": "ipython3",
   "version": "3.13.2"
  }
 },
 "nbformat": 4,
 "nbformat_minor": 2
}
