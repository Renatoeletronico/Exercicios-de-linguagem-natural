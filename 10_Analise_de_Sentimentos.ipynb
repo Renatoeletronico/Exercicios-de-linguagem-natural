{
  "nbformat": 4,
  "nbformat_minor": 0,
  "metadata": {
    "colab": {
      "provenance": [],
      "authorship_tag": "ABX9TyN505T0dmZCtLk/Lbk0Tj5z",
      "include_colab_link": true
    },
    "kernelspec": {
      "name": "python3",
      "display_name": "Python 3"
    },
    "language_info": {
      "name": "python"
    }
  },
  "cells": [
    {
      "cell_type": "markdown",
      "metadata": {
        "id": "view-in-github",
        "colab_type": "text"
      },
      "source": [
        "<a href=\"https://colab.research.google.com/github/Renatoeletronico/Exercicios-de-linguagem-natural/blob/main/10_Analise_de_Sentimentos.ipynb\" target=\"_parent\"><img src=\"https://colab.research.google.com/assets/colab-badge.svg\" alt=\"Open In Colab\"/></a>"
      ]
    },
    {
      "cell_type": "markdown",
      "source": [
        "# Análise de sentimentos e classificação de texto (Maives Baynes)\n",
        "\n",
        "  * Compreender o funcionamentos de scripts que realizam a calssificação de textos\n",
        "    * Usando a biblioteca NLTK\n",
        "    * Usando cálculo probabilistico\n",
        "\n",
        "  * O que é a classificação de textos?\n",
        "    * Criar o rótulo ou uma categoria com base no conteúdo do texto\n",
        "    * Aplicado detecção de Spam, identificação de idioma, organização de documentos, análise de clientes, análise de satisfação, etc.\n",
        "  \n",
        "  * Como é feito:\n",
        "    * Utilizando o teorema de Bayes (hoje no roteiro pratico)\n",
        "    * Árvore de decisão (próximos roteiros praticos)\n",
        "  \n"
      ],
      "metadata": {
        "id": "IssG5kOqGOQf"
      }
    }
  ]
}